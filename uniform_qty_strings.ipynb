{
 "cells": [
  {
   "cell_type": "markdown",
   "metadata": {},
   "source": [
    "## Strings of digits with uniformly distributed quantities of each element\n",
    "\n",
    "### Idea\n",
    "- generate every integer partition of the string length (limited by number of digits)\n",
    "- choose a number of max occurrences\n",
    "- return one corresponding partition\n",
    "\n",
    "https://en.wikipedia.org/wiki/Partition_(number_theory)\n",
    "\n",
    "Obs: number of partitions [increases exponentialy](https://en.wikipedia.org/wiki/Partition_(number_theory)#Partition_function)."
   ]
  },
  {
   "cell_type": "code",
   "execution_count": 108,
   "metadata": {},
   "outputs": [],
   "source": [
    "import numpy as np\n",
    "from numpy.random import randint, shuffle, choice\n",
    "\n",
    "def restricted_partitions(n, size, I=1):\n",
    "    \"\"\" modified from https://stackoverflow.com/a/44209393/2853953 \"\"\"\n",
    "    if size > 0:\n",
    "        yield (n,)\n",
    "        for i in range(I, n//2 + 1):\n",
    "                for p in restricted_partitions(n-i, size-1, i):\n",
    "                    yield (i,) + p\n",
    "\n",
    "cache = {}\n",
    "\n",
    "def gen_string(base, length):\n",
    "    if (base,length) not in cache:\n",
    "        cache[base,length] = list(restricted_partitions(length, base))\n",
    "    partitions = cache[base,length]\n",
    "    highest_qty = randint(length//2, length) + 1\n",
    "    parts = [p for p in partitions if highest_qty in p]\n",
    "    index = randint(len(parts))\n",
    "    partition = parts[index]\n",
    "    l = list(range(base))\n",
    "    shuffle(l)\n",
    "    s = []\n",
    "    for i,x in enumerate(partition):\n",
    "        s += x * [l[i]]\n",
    "    shuffle(s)\n",
    "    return s"
   ]
  },
  {
   "cell_type": "code",
   "execution_count": 148,
   "metadata": {},
   "outputs": [
    {
     "data": {
      "text/plain": [
       "[(4,), (1, 3), (1, 1, 2), (2, 2)]"
      ]
     },
     "execution_count": 148,
     "metadata": {},
     "output_type": "execute_result"
    }
   ],
   "source": [
    "# example partition\n",
    "list(restricted_partitions(4,3))"
   ]
  },
  {
   "cell_type": "code",
   "execution_count": 152,
   "metadata": {},
   "outputs": [
    {
     "data": {
      "text/plain": [
       "[1, 2, 2, 2, 2, 1, 2, 0, 2, 2, 2, 2, 2, 2, 2, 2, 2, 2, 0, 2]"
      ]
     },
     "execution_count": 152,
     "metadata": {},
     "output_type": "execute_result"
    }
   ],
   "source": [
    "# example string\n",
    "gen_string(3, 20)"
   ]
  },
  {
   "cell_type": "markdown",
   "metadata": {},
   "source": [
    "### Testing the distribution of quantities"
   ]
  },
  {
   "cell_type": "code",
   "execution_count": 137,
   "metadata": {},
   "outputs": [],
   "source": [
    "from collections import Counter\n",
    "import matplotlib.pyplot as plt\n",
    "\n",
    "def test(base, length, trials):\n",
    "    \"\"\" plot quantities for each generated string \"\"\"\n",
    "    l = []\n",
    "    for _ in range(trials):\n",
    "        c = Counter()\n",
    "        s = gen_string(base, length)\n",
    "        for i in s:\n",
    "            c[i] += 1\n",
    "        l.append(max(c.values()))\n",
    "    plt.hist(l,bins=100)"
   ]
  },
  {
   "cell_type": "code",
   "execution_count": 145,
   "metadata": {},
   "outputs": [
    {
     "data": {
      "image/png": "[encoded data removed]",
      "text/plain": [
       "<Figure size 432x288 with 1 Axes>"
      ]
     },
     "metadata": {
      "needs_background": "light"
     },
     "output_type": "display_data"
    }
   ],
   "source": [
    "test(4,100,100000)"
   ]
  },
  {
   "cell_type": "code",
   "execution_count": 154,
   "metadata": {},
   "outputs": [
    {
     "data": {
      "image/png": "[encoded data removed]",
      "text/plain": [
       "<Figure size 432x288 with 1 Axes>"
      ]
     },
     "metadata": {
      "needs_background": "light"
     },
     "output_type": "display_data"
    }
   ],
   "source": [
    "test(5,100,100000)"
   ]
  },
  {
   "cell_type": "markdown",
   "metadata": {},
   "source": [
    "### Number of partitions"
   ]
  },
  {
   "cell_type": "code",
   "execution_count": 135,
   "metadata": {},
   "outputs": [
    {
     "data": {
      "text/plain": [
       "8037"
      ]
     },
     "execution_count": 135,
     "metadata": {},
     "output_type": "execute_result"
    }
   ],
   "source": [
    "len(list(restricted_partitions(100,4)))"
   ]
  },
  {
   "cell_type": "code",
   "execution_count": 146,
   "metadata": {},
   "outputs": [
    {
     "data": {
      "text/plain": [
       "46262"
      ]
     },
     "execution_count": 146,
     "metadata": {},
     "output_type": "execute_result"
    }
   ],
   "source": [
    "len(list(restricted_partitions(100,5)))"
   ]
  },
  {
   "cell_type": "code",
   "execution_count": 147,
   "metadata": {},
   "outputs": [
    {
     "data": {
      "text/plain": [
       "189509"
      ]
     },
     "execution_count": 147,
     "metadata": {},
     "output_type": "execute_result"
    }
   ],
   "source": [
    "len(list(restricted_partitions(100,6)))"
   ]
  },
  {
   "cell_type": "code",
   "execution_count": 153,
   "metadata": {},
   "outputs": [
    {
     "data": {
      "text/plain": [
       "596763"
      ]
     },
     "execution_count": 153,
     "metadata": {},
     "output_type": "execute_result"
    }
   ],
   "source": [
    "len(list(restricted_partitions(100,7)))"
   ]
  }
 ],
 "metadata": {
  "kernelspec": {
   "display_name": "Python 3",
   "language": "python",
   "name": "python3"
  },
  "language_info": {
   "codemirror_mode": {
    "name": "ipython",
    "version": 3
   },
   "file_extension": ".py",
   "mimetype": "text/x-python",
   "name": "python",
   "nbconvert_exporter": "python",
   "pygments_lexer": "ipython3",
   "version": "3.6.8"
  }
 },
 "nbformat": 4,
 "nbformat_minor": 2
}
