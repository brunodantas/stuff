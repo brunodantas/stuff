{
 "cells": [
  {
   "cell_type": "markdown",
   "metadata": {},
   "source": [
    "## Uniformly distributed strings of digits"
   ]
  },
  {
   "cell_type": "code",
   "execution_count": 12,
   "metadata": {},
   "outputs": [],
   "source": [
    "import numpy as np\n",
    "from numpy.random import randint, shuffle\n",
    "\n",
    "# using base conversion\n",
    "def gen_string(base, length):\n",
    "    n = randint(base ** length)\n",
    "    string = base_convert(n, base)\n",
    "    return string\n",
    "\n",
    "def base_convert(n, base):\n",
    "    digits = []\n",
    "    while n > 0:\n",
    "        digits.append(n % base)\n",
    "        n = n // base\n",
    "    return digits[::-1]  # reversed\n",
    "\n",
    "\n",
    "# alternative solution\n",
    "def gen_string2(base, length):\n",
    "    s = []\n",
    "    for i in range(base):\n",
    "        s += length * [i]\n",
    "    shuffle(s)\n",
    "    return s[:length]"
   ]
  },
  {
   "cell_type": "markdown",
   "metadata": {},
   "source": [
    "Ex"
   ]
  },
  {
   "cell_type": "code",
   "execution_count": 37,
   "metadata": {},
   "outputs": [
    {
     "data": {
      "text/plain": [
       "[1, 1, 0, 1, 0, 1, 1, 1, 0, 1]"
      ]
     },
     "execution_count": 37,
     "metadata": {},
     "output_type": "execute_result"
    }
   ],
   "source": [
    "gen_string(2,10)"
   ]
  },
  {
   "cell_type": "markdown",
   "metadata": {},
   "source": [
    "## Test 1\n",
    "\n",
    "Number of occurences per string"
   ]
  },
  {
   "cell_type": "code",
   "execution_count": 1,
   "metadata": {},
   "outputs": [],
   "source": [
    "import matplotlib.pyplot as plt\n",
    "from collections import Counter\n",
    "\n",
    "def test(base, length, trials):\n",
    "    \"\"\" plot number of occurrences for each generated string \"\"\"\n",
    "    c = Counter()\n",
    "    for _ in range(trials):\n",
    "        s = gen_string(base, length)\n",
    "        c[str(s)] += 1\n",
    "    plt.bar(len(c),c.values())\n",
    "    print(c.values())"
   ]
  },
  {
   "cell_type": "code",
   "execution_count": 61,
   "metadata": {},
   "outputs": [
    {
     "name": "stdout",
     "output_type": "stream",
     "text": [
      "dict_values([31337, 31182, 31255, 31165, 31076, 31136, 31217, 31677, 31128, 31092, 31195, 31176, 31228, 31104, 31060, 31306, 31112, 31626, 31077, 31343, 31191, 31228, 31284, 31284, 31487, 31536, 31362, 31388, 31529, 31218, 31335, 30666])\n"
     ]
    },
    {
     "data": {
      "image/png": "[encoded data removed]",
      "text/plain": [
       "<Figure size 432x288 with 1 Axes>"
      ]
     },
     "metadata": {
      "needs_background": "light"
     },
     "output_type": "display_data"
    }
   ],
   "source": [
    "test(base=2,length=5,trials=10**6)"
   ]
  },
  {
   "cell_type": "code",
   "execution_count": 62,
   "metadata": {},
   "outputs": [
    {
     "name": "stdout",
     "output_type": "stream",
     "text": [
      "dict_values([4102, 4182, 4144, 4119, 4118, 4151, 4107, 4082, 3941, 4082, 4169, 4062, 4157, 4252, 4083, 4101, 4068, 4163, 4101, 4095, 4151, 4168, 4171, 4012, 4160, 4248, 4090, 4206, 4241, 4104, 4096, 4043, 4027, 4075, 4088, 4153, 4256, 3995, 4080, 4127, 4095, 4104, 4198, 4110, 4084, 4121, 4137, 4081, 4139, 4007, 4182, 4228, 4139, 4144, 4137, 4178, 4153, 4210, 4186, 4126, 4178, 4129, 4233, 4176, 4094, 4072, 4094, 4202, 4195, 4140, 4079, 4159, 4159, 4105, 4141, 4033, 4105, 4110, 4215, 4131, 4179, 4127, 4105, 4002, 4036, 4065, 4151, 4140, 4022, 4051, 4159, 4023, 4249, 4028, 4137, 4234, 4080, 4092, 4037, 4290, 4160, 4153, 4060, 4163, 4123, 3984, 4148, 4088, 4203, 4163, 4127, 4113, 4072, 4173, 4084, 4129, 4175, 4105, 4115, 4162, 4129, 4181, 4045, 4081, 4132, 4021, 4169, 4162, 4133, 4164, 4166, 4116, 4143, 4004, 3981, 4065, 4089, 4136, 4160, 4055, 4133, 4098, 4069, 4046, 4063, 4211, 4094, 4163, 4131, 4037, 4157, 4100, 4064, 4047, 3930, 4062, 4109, 4218, 4117, 4117, 4171, 4100, 4184, 4228, 4027, 4108, 4201, 4184, 4150, 4131, 4070, 4084, 4090, 4106, 4065, 4082, 4112, 4058, 4139, 4244, 4133, 4071, 3994, 4069, 4169, 4083, 4027, 4011, 4035, 4166, 4142, 4079, 4055, 4087, 4067, 4086, 4068, 4147, 4148, 4127, 4083, 4101, 4059, 4045, 4151, 4112, 4134, 4141, 4183, 4137, 4228, 4167, 4149, 4104, 4080, 4160, 4117, 4045, 4087, 4090, 4162, 4237, 4035, 4129, 4201, 4102, 4074, 4158, 4075, 4166, 4149, 3966, 4107, 4091, 3990, 3997, 4161, 4072, 4034, 4056, 3995, 4199, 4089])\n"
     ]
    },
    {
     "data": {
      "image/png": "[encoded data removed]",
      "text/plain": [
       "<Figure size 432x288 with 1 Axes>"
      ]
     },
     "metadata": {
      "needs_background": "light"
     },
     "output_type": "display_data"
    }
   ],
   "source": [
    "test(base=3,length=5,trials=10**6)"
   ]
  },
  {
   "cell_type": "markdown",
   "metadata": {},
   "source": [
    "## Test 2\n",
    "\n",
    "String sum"
   ]
  },
  {
   "cell_type": "code",
   "execution_count": 6,
   "metadata": {},
   "outputs": [],
   "source": [
    "def test2(base, length, trials):\n",
    "    \"\"\" plot sums for each generated string \"\"\"\n",
    "    l = []\n",
    "    for _ in range(trials):\n",
    "        s = gen_string(base, length)\n",
    "        l.append(sum(s))\n",
    "    plt.hist(l)"
   ]
  },
  {
   "cell_type": "code",
   "execution_count": 8,
   "metadata": {},
   "outputs": [
    {
     "data": {
      "image/png": "[encoded data removed]",
      "text/plain": [
       "<Figure size 432x288 with 1 Axes>"
      ]
     },
     "metadata": {
      "needs_background": "light"
     },
     "output_type": "display_data"
    }
   ],
   "source": [
    "test2(2,10,100000)"
   ]
  },
  {
   "cell_type": "code",
   "execution_count": 11,
   "metadata": {},
   "outputs": [
    {
     "data": {
      "image/png": "[encoded data removed]",
      "text/plain": [
       "<Figure size 432x288 with 1 Axes>"
      ]
     },
     "metadata": {
      "needs_background": "light"
     },
     "output_type": "display_data"
    }
   ],
   "source": [
    "test2(3,10,100000)"
   ]
  }
 ],
 "metadata": {
  "kernelspec": {
   "display_name": "Python 3",
   "language": "python",
   "name": "python3"
  },
  "language_info": {
   "codemirror_mode": {
    "name": "ipython",
    "version": 3
   },
   "file_extension": ".py",
   "mimetype": "text/x-python",
   "name": "python",
   "nbconvert_exporter": "python",
   "pygments_lexer": "ipython3",
   "version": "3.6.8"
  }
 },
 "nbformat": 4,
 "nbformat_minor": 2
}
